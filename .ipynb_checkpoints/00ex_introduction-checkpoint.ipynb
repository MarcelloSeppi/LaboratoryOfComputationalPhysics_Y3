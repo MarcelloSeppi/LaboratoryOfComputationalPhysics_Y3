{
 "cells": [
  {
   "cell_type": "markdown",
   "metadata": {},
   "source": [
    "1. The MickeyMouse problem\n",
    "\n",
    "a) Write a program that prints the numbers from 1 to 100. But for multiples of three print Mickey instead of the number and for the multiples of five print Mouse. For numbers which are multiples of both three and five print MickeyMouse\n",
    "\n",
    "b) Put the result in a tuple and substitute Mickey with Donald and Mouse with Duck"
   ]
  },
  {
   "cell_type": "code",
   "execution_count": 40,
   "metadata": {},
   "outputs": [],
   "source": [
    "#a\n",
    "\n",
    "sequence = []\n",
    "for n in range(1,101):\n",
    "    if n%3==0:\n",
    "        if n%5==0:\n",
    "            sequence.append('MikeyMouse')\n",
    "        else:\n",
    "            sequence.append('Mikey')\n",
    "    elif n%5==0:\n",
    "        sequence.append('Mouse')\n",
    "    else:\n",
    "        sequence.append(str(n))\n",
    "\n",
    "#sequence"
   ]
  },
  {
   "cell_type": "code",
   "execution_count": 41,
   "metadata": {},
   "outputs": [],
   "source": [
    "#b\n",
    "\n",
    "for i,v in enumerate(sequence):\n",
    "    sequence[i]=v.replace('Mikey','Donald').replace('Mouse','Duck')\n",
    "\n",
    "#sequence"
   ]
  },
  {
   "cell_type": "markdown",
   "metadata": {},
   "source": [
    "2\\. The swap function\n",
    "\n",
    "Write a function that swap the values of two input variables x and y (whatever the type). Try to do that also without a temporary variable"
   ]
  },
  {
   "cell_type": "code",
   "execution_count": 47,
   "metadata": {},
   "outputs": [
    {
     "name": "stdout",
     "output_type": "stream",
     "text": [
      "['cagnolino', <class 'int'>]\n",
      "[<class 'int'>, 'cagnolino']\n"
     ]
    }
   ],
   "source": [
    "#it seems to me that it is possoble to swap the values in the external scope only\n",
    "#if a and b are mutable, and some methods are available to modify them in-place from within the function\n",
    "\n",
    "#otherwise, if one to consider swap the order of the return parameters of the function one could simply write\n",
    "def swap(a,b):\n",
    "    return b,a\n",
    "    \n",
    "a='cagnolino'\n",
    "b= int\n",
    "\n",
    "print([a,b])\n",
    "\n",
    "a,b = swap(a,b)\n",
    "\n",
    "print([a,b])"
   ]
  },
  {
   "cell_type": "markdown",
   "metadata": {},
   "source": [
    "3\\. Computing the distance\n",
    "\n",
    "Write a function that calculates and returns the euclidean distance between two points *u* and *v*, where *u* and *v* are both 2-tuples *(x,y)*. For example, if *u=(3,0)* and *v=(0,4)*, the function should return 5"
   ]
  },
  {
   "cell_type": "code",
   "execution_count": 50,
   "metadata": {},
   "outputs": [
    {
     "name": "stdout",
     "output_type": "stream",
     "text": [
      "5.0\n"
     ]
    }
   ],
   "source": [
    "def distance(u,v):\n",
    "    return ((v[0]-u[0])**2+(v[1]-u[1])**2)**0.5\n",
    "\n",
    "u=(3,0)\n",
    "v=(0,4)\n",
    "\n",
    "print(distance(u,v))"
   ]
  },
  {
   "cell_type": "markdown",
   "metadata": {},
   "source": [
    "4\\. Counting letters\n",
    "\n",
    "Write a program to calculate the number of times each character occurs in a given string *s*. Ignore differneces in capitalization"
   ]
  },
  {
   "cell_type": "code",
   "execution_count": 71,
   "metadata": {},
   "outputs": [
    {
     "data": {
      "text/plain": [
       "[[' ', 41],\n",
       " ['.', 2],\n",
       " ['0', 2],\n",
       " ['1', 2],\n",
       " ['a', 7],\n",
       " ['b', 5],\n",
       " ['c', 3],\n",
       " ['d', 3],\n",
       " ['e', 22],\n",
       " ['f', 10],\n",
       " ['g', 1],\n",
       " ['h', 9],\n",
       " ['i', 14],\n",
       " ['k', 2],\n",
       " ['l', 6],\n",
       " ['m', 12],\n",
       " ['n', 10],\n",
       " ['o', 13],\n",
       " ['p', 8],\n",
       " ['r', 17],\n",
       " ['s', 9],\n",
       " ['t', 19],\n",
       " ['u', 9],\n",
       " ['v', 2],\n",
       " ['w', 2],\n",
       " ['y', 2]]"
      ]
     },
     "execution_count": 71,
     "metadata": {},
     "output_type": "execute_result"
    }
   ],
   "source": [
    "s=\"Write a program that prints the numbers from 1 to 100. \\\n",
    "But for multiples of three print Mickey instead of the number and for the multiples of five print Mouse. \\\n",
    "For numbers which are multiples of both three and five print MickeyMouse\"\n",
    "\n",
    "s=s.lower()\n",
    "\n",
    "counting=[]\n",
    "\n",
    "for i in range(500):\n",
    "    c = s.count(chr(i))\n",
    "    if c>0:\n",
    "        counting.append([chr(i),s.count(chr(i))])\n",
    "\n",
    "#counting"
   ]
  },
  {
   "cell_type": "markdown",
   "metadata": {},
   "source": [
    "5\\. Isolating the unique\n",
    "\n",
    "Write a function that determines and count the unique numbers in the list *L*"
   ]
  },
  {
   "cell_type": "code",
   "execution_count": 77,
   "metadata": {},
   "outputs": [
    {
     "data": {
      "text/plain": [
       "([58,\n",
       "  74,\n",
       "  96,\n",
       "  64,\n",
       "  10,\n",
       "  24,\n",
       "  19,\n",
       "  33,\n",
       "  86,\n",
       "  99,\n",
       "  18,\n",
       "  47,\n",
       "  88,\n",
       "  55,\n",
       "  54,\n",
       "  8,\n",
       "  79,\n",
       "  81,\n",
       "  57,\n",
       "  37,\n",
       "  1,\n",
       "  9,\n",
       "  95,\n",
       "  90,\n",
       "  98,\n",
       "  39,\n",
       "  16,\n",
       "  82,\n",
       "  92,\n",
       "  41,\n",
       "  30,\n",
       "  94,\n",
       "  5,\n",
       "  72,\n",
       "  87,\n",
       "  75,\n",
       "  53],\n",
       " 37)"
      ]
     },
     "execution_count": 77,
     "metadata": {},
     "output_type": "execute_result"
    }
   ],
   "source": [
    "L = [36, 45, 58, 3, 74, 96, 64, 45, 31, 10, 24, 19, 33, 86, 99, 18, 63, 70, 85,\n",
    " 85, 63, 47, 56, 42, 70, 84, 88, 55, 20, 54, 8, 56, 51, 79, 81, 57, 37, 91,\n",
    " 1, 84, 84, 36, 66, 9, 89, 50, 42, 91, 50, 95, 90, 98, 39, 16, 82, 31, 92, 41,\n",
    " 45, 30, 66, 70, 34, 85, 94, 5, 3, 36, 72, 91, 84, 34, 87, 75, 53, 51, 20, 89, 51, 20]\n",
    "\n",
    "def uniques_finder(L):\n",
    "    uniques = []\n",
    "\n",
    "    for l in L:\n",
    "        if L.count(l)==1:\n",
    "                uniques.append(l)\n",
    "            \n",
    "    return uniques,len(uniques)\n",
    "\n",
    "uniques_finder(L)"
   ]
  },
  {
   "cell_type": "markdown",
   "metadata": {},
   "source": [
    "6\\. Combination of functions\n",
    "\n",
    "Write two functions - one that returns the square of a number, and one that returns the cube. Now write a third function that returns the number raised to the 6th power using the two previous functions."
   ]
  },
  {
   "cell_type": "markdown",
   "metadata": {},
   "source": [
    "7\\. Cubes\n",
    "\n",
    "Create a list of the cubes of x for x in *[0, 10]* using:\n",
    "\n",
    "a) a for loop\n",
    "\n",
    "b) a list comprehension"
   ]
  },
  {
   "cell_type": "markdown",
   "metadata": {},
   "source": [
    "8\\. Nested list comprehension\n",
    "\n",
    "A Pythagorean triple is an integer solution to the Pythagorean theorem $a^2+b^2=c^2$. The first Pythagorean triple is (3,4,5). Find and put in a tuple all unique Pythagorean triples for the positive integers a, b and c less than 100."
   ]
  },
  {
   "cell_type": "markdown",
   "metadata": {},
   "source": [
    "9\\. Normalization\n",
    "\n",
    "Write a function that takes a tuple of numbers and returns it with the entries normalized to one"
   ]
  },
  {
   "cell_type": "code",
   "execution_count": null,
   "metadata": {},
   "outputs": [],
   "source": []
  }
 ],
 "metadata": {
  "kernelspec": {
   "display_name": "Python 3",
   "language": "python",
   "name": "python3"
  },
  "language_info": {
   "codemirror_mode": {
    "name": "ipython",
    "version": 3
   },
   "file_extension": ".py",
   "mimetype": "text/x-python",
   "name": "python",
   "nbconvert_exporter": "python",
   "pygments_lexer": "ipython3",
   "version": "3.7.6"
  }
 },
 "nbformat": 4,
 "nbformat_minor": 2
}
