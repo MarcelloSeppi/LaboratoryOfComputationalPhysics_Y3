{
 "cells": [
  {
   "cell_type": "markdown",
   "metadata": {},
   "source": [
    "### 1\\. Write a function that converts number representation (bin<->dec<->hex)"
   ]
  },
  {
   "cell_type": "code",
   "execution_count": 87,
   "metadata": {},
   "outputs": [
    {
     "name": "stdout",
     "output_type": "stream",
     "text": [
      "True\n",
      "True\n",
      "True\n"
     ]
    }
   ],
   "source": [
    "# from various representation to int representation\n",
    "def hex_to_int(n_hex):\n",
    "    n = 0\n",
    "    for i,c in zip(range(len(n_hex)-2),n_hex[:1:-1]):\n",
    "        try :\n",
    "            base = int(c)\n",
    "        except:\n",
    "            base = ord(c)-97+10 ## proper traslation on ascii code of c character\n",
    "            \n",
    "        n += base*16**i\n",
    "    \n",
    "    return n\n",
    "\n",
    "\n",
    "def dec_to_int(n_dec):\n",
    "    n = 0\n",
    "    for i,c in zip(range(len(n_dec)),n_dec[::-1]):\n",
    "        n += int(c)*10**i\n",
    "    \n",
    "    return n\n",
    "\n",
    "def bin_to_int(n_bin):\n",
    "    n = 0\n",
    "    for i,c in zip(range(len(n_bin)-2),n_bin[:1:-1]):\n",
    "        n += int(c)*2**i\n",
    "    \n",
    "    return n\n",
    "\n",
    "n = 44294\n",
    "n_hex = hex(n)\n",
    "n_dec = str(n)\n",
    "n_bin = bin(n)\n",
    "\n",
    "print(hex_to_int(n_hex) == n)\n",
    "print(dec_to_int(n_dec) == n)\n",
    "print(bin_to_int(n_bin) == n)"
   ]
  },
  {
   "cell_type": "code",
   "execution_count": 88,
   "metadata": {},
   "outputs": [
    {
     "name": "stdout",
     "output_type": "stream",
     "text": [
      "True\n",
      "True\n",
      "True\n"
     ]
    }
   ],
   "source": [
    "# from int representation to various representations\n",
    "\n",
    "def int_to_char(n):\n",
    "    if(n<10):\n",
    "        return str(n)\n",
    "    else:\n",
    "        if(n==10):\n",
    "            return 'a'\n",
    "        elif(n==11):\n",
    "            return 'b'\n",
    "        elif(n==12):\n",
    "            return 'c'\n",
    "        elif(n==13):\n",
    "            return 'd'\n",
    "        elif(n==14):\n",
    "            return 'e'\n",
    "        elif(n==15):\n",
    "            return 'f'\n",
    "        else:\n",
    "            print('{}-->ERROR_unimplementted_base'.format(n))\n",
    "\n",
    "def int_to_bin(n):\n",
    "    B = 2 # base of target representation\n",
    "    n_B = '0b'\n",
    "    I=1\n",
    "    while( (n%(B**I))!=n ):\n",
    "        I += 1\n",
    "    I -= 1\n",
    "    for i in range(I,-1,-1):\n",
    "        n_B += int_to_char( (n-n%(B**i))//B**i )\n",
    "        n %= (B**i) # scrematura\n",
    "    \n",
    "    return n_B\n",
    "        \n",
    "def int_to_dec(n):\n",
    "    B = 10 # base of target representation\n",
    "    n_B = ''\n",
    "    I=1\n",
    "    while( (n%(B**I))!=n ):\n",
    "        I += 1\n",
    "    I -= 1\n",
    "    for i in range(I,-1,-1):\n",
    "        n_B += int_to_char( n//B**i )\n",
    "        n %= (B**i) # scrematura\n",
    "    \n",
    "    return n_B\n",
    "\n",
    "def int_to_hex(n):\n",
    "    B = 16 # base of target representation\n",
    "    n_B = '0x'\n",
    "    I=1\n",
    "    while( (n%(B**I))!=n ):\n",
    "        I += 1\n",
    "    I -= 1\n",
    "    for i in range(I,-1,-1):\n",
    "        n_B += int_to_char( n//B**i )\n",
    "        n %= (B**i) # scrematura\n",
    "    return n_B\n",
    "\n",
    "n = 44294\n",
    "\n",
    "print(int_to_hex(n) == hex(n))\n",
    "print(int_to_dec(n) == str(n))\n",
    "print(int_to_bin(n) == bin(n))"
   ]
  },
  {
   "cell_type": "code",
   "execution_count": 94,
   "metadata": {},
   "outputs": [
    {
     "name": "stdout",
     "output_type": "stream",
     "text": [
      "True\n",
      "True\n",
      "True\n",
      "True\n"
     ]
    }
   ],
   "source": [
    "def bin_to_dec(n_bin):\n",
    "    return int_to_dec(bin_to_int(n_bin))\n",
    "def dec_to_bin(n_dec):\n",
    "    return int_to_bin(dec_to_int(n_dec))\n",
    "def hex_to_dec(n_hex):\n",
    "    return int_to_dec(hex_to_int(n_hex))\n",
    "def dec_to_hex(n_dec):\n",
    "    return int_to_hex(dec_to_int(n_dec))\n",
    "\n",
    "n = 1234\n",
    "n_bin = bin(n)\n",
    "n_dec = int_to_dec(n)\n",
    "n_hex = hex(n)\n",
    "\n",
    "print( bin_to_dec(n_bin) == n_dec )\n",
    "print( dec_to_bin(n_dec) == n_bin )\n",
    "print( hex_to_dec(n_hex) == n_dec )\n",
    "print( dec_to_hex(n_dec) == n_hex )"
   ]
  },
  {
   "cell_type": "markdown",
   "metadata": {},
   "source": [
    "### 2\\. Write a function that converts a 32 bit word into a single precision floating point (i.e. interprets the various bits as sign, mantissa and exponent)"
   ]
  },
  {
   "cell_type": "code",
   "execution_count": 351,
   "metadata": {},
   "outputs": [],
   "source": [
    "def sequence():\n",
    "    from numpy import random\n",
    "    return ''.join([str(round(random.uniform())) for n in range(0,32)])"
   ]
  },
  {
   "cell_type": "code",
   "execution_count": 352,
   "metadata": {},
   "outputs": [
    {
     "name": "stdout",
     "output_type": "stream",
     "text": [
      "-0.014156416989862919\n",
      "-1.6414116528841333e+27\n",
      "580408639488.0\n",
      "6119907393536.0\n",
      "0.0033583613112568855\n",
      "-6.058135700900208e+31\n",
      "-1.0396777941303296e+16\n",
      "-1.0733911022130393e-24\n",
      "2.7818457341160534e+42\n",
      "5.4511542320251465\n",
      "2.6824423571270017e-08\n",
      "-5.028935577340672e-26\n",
      "-11028.7001953125\n",
      "7.025701887810819e+24\n",
      "-1.4545133906446224e+36\n"
     ]
    }
   ],
   "source": [
    "def floating_point(bit_sequence):\n",
    "    significant = bit_sequence[0:23]\n",
    "    exponent = bin_to_int('0b'+bit_sequence[23:31])\n",
    "    sign = (-1)**dec_to_int(bit_sequence[31])\n",
    "    \n",
    "    fraction = 1\n",
    "    for i,b in zip(range(len(significant)),significant):\n",
    "        fraction+= int(b)*2.**(23-i)\n",
    "    \n",
    "    return sign * 2.**(exponent-127.) * fraction # IEEE 754 single-precision binary floating-point format, from wiki\n",
    "\n",
    "for i in range(15):\n",
    "    print(floating_point(sequence()))"
   ]
  },
  {
   "cell_type": "markdown",
   "metadata": {},
   "source": [
    "### 3\\. Write a program to determine the underflow and overflow limits (within a factor of 2) for python on your computer. \n",
    "\n",
    "**Tips**: define two variables inizialized to 1 and halve/double them enough time to exceed the under/over-flow limits  "
   ]
  },
  {
   "cell_type": "code",
   "execution_count": 353,
   "metadata": {},
   "outputs": [
    {
     "name": "stdout",
     "output_type": "stream",
     "text": [
      "overflow with i=1024\n",
      "underflow with i=1024\n"
     ]
    }
   ],
   "source": [
    "testval = 1.\n",
    "\n",
    "i=0\n",
    "overflow = False\n",
    "while overflow != True:\n",
    "    try:\n",
    "        testval*2**i\n",
    "    except:\n",
    "        print(\"overflow with i={}\".format(i))\n",
    "        overflow = True\n",
    "    i+=1\n",
    "        \n",
    "i=0\n",
    "underflow = False\n",
    "while underflow != True:\n",
    "    try:\n",
    "        testval/2**(i)\n",
    "    except:\n",
    "        print(\"underflow with i={}\".format(i))\n",
    "        underflow = True\n",
    "    i+=1\n",
    "        \n",
    "                "
   ]
  },
  {
   "cell_type": "markdown",
   "metadata": {},
   "source": [
    "### 4\\. Write a program to determine the machine precision\n",
    "\n",
    "**Tips**: define a new variable by adding a smaller and smaller value (proceeding similarly to prob. 3) to an original variable and check the point where the two are the same "
   ]
  },
  {
   "cell_type": "code",
   "execution_count": 354,
   "metadata": {},
   "outputs": [
    {
     "name": "stdout",
     "output_type": "stream",
     "text": [
      "original = 0.00019 \tepsilon = 1.3552527156068805e-20 \tequality = True \tfraction = 7.132909029509897e-17\n",
      "original = 1502 \tepsilon = 2.842170943040401e-14 \tequality = True \tfraction = 1.8922576185355532e-17\n",
      "original = 122000000000000.0 \tepsilon = 0.0009765625 \tequality = True \tfraction = 8.004610655737704e-18\n",
      "original = 1000000 \tepsilon = 1.4551915228366852e-11 \tequality = True \tfraction = 1.455191522836685e-17\n"
     ]
    }
   ],
   "source": [
    "# machine precision upon comparison depends on base vaue\n",
    "def rough_machine_precision(value):\n",
    "    original = value\n",
    "    \n",
    "    epsilon = 1\n",
    "\n",
    "    i=0\n",
    "    test = original + epsilon\n",
    "    while original != test:\n",
    "        epsilon /= 2**i \n",
    "        test = original + epsilon\n",
    "        i += 1\n",
    "    \n",
    "    print(\"original =\",original, \"\\tepsilon =\", epsilon, \"\\tequality =\",original==test, \"\\tfraction =\", epsilon/original )\n",
    "    \n",
    "\n",
    "rough_machine_precision(0.00019)\n",
    "rough_machine_precision(1502)\n",
    "rough_machine_precision(1.22*10**14)\n",
    "rough_machine_precision(10**6)"
   ]
  },
  {
   "cell_type": "markdown",
   "metadata": {},
   "source": [
    "### 5\\. Write a function that takes in input three parameters $a$, $b$ and $c$ and prints out the two solutions to the quadratic equation $ax^2+bx+c=0$ using the standard formula:\n",
    "$$\n",
    "x=\\frac{-b\\pm\\sqrt{b^2-4ac}}{2a}\n",
    "$$"
   ]
  },
  {
   "cell_type": "code",
   "execution_count": 226,
   "metadata": {},
   "outputs": [],
   "source": [
    "from math import sqrt,log10\n",
    "def quad_sol(a,b,c):\n",
    "    #print(b,b**2-4*a*c,-b+sqrt(b**2-4*a*c))\n",
    "    #print(2*a)\n",
    "    print(\"1)\",-b+sqrt(b**2-4*a*c),-b-sqrt(b**2-4*a*c))\n",
    "    print(\"2)\",(-b+sqrt(b**2-4*a*c))/2*a,(-b-sqrt(b**2-4*a*c))/(2*a))\n",
    "    print(\"3)\",17-abs(log10((b-sqrt(b**2-4*a*c))/b)) )\n",
    "    return (  (-b+sqrt(b**2-4*a*c) )/(2*a),   (-b-sqrt(b**2-4*a*c) )/(2*a)  )\n",
    "\n",
    "def sol_test(a,b,c,x0):\n",
    "    return a*x0**2+b*x0+c\n",
    "\n",
    "def der(a,b,c,x):\n",
    "    return 2*a*x+b"
   ]
  },
  {
   "cell_type": "markdown",
   "metadata": {},
   "source": [
    "(a) use the program to compute the solution for $a=0.001$, $b=1000$ and $c=0.001$"
   ]
  },
  {
   "cell_type": "code",
   "execution_count": 227,
   "metadata": {},
   "outputs": [
    {
     "name": "stdout",
     "output_type": "stream",
     "text": [
      "1) -1.999978849198669e-09 -1999.999999998\n",
      "2) -9.999894245993345e-13 -999999.999999\n",
      "3) 5.301025402801542\n",
      "sol1 = -9.999894245993346e-07 \tsol test = 1.0575401665491313e-08\n",
      "sol2 = -999999.999999 \tsol test = 7.247924804689582e-08\n",
      "-999.999999998\n"
     ]
    }
   ],
   "source": [
    "a = 0.001\n",
    "b = 1000\n",
    "c = 0.001\n",
    "\n",
    "x0 = quad_sol(a,b,c)\n",
    "print(\"sol1 =\",x0[0],\"\\tsol test =\",sol_test(a,b,c,x0[0]))\n",
    "print(\"sol2 =\",x0[1],\"\\tsol test =\",sol_test(a,b,c,x0[1]))\n",
    "print(der(a,b,c,x0[1]))"
   ]
  },
  {
   "cell_type": "markdown",
   "metadata": {},
   "source": [
    "# ######"
   ]
  },
  {
   "cell_type": "markdown",
   "metadata": {},
   "source": [
    "(b) re-express the standard solution formula by multiplying top and bottom by $-b\\mp\\sqrt{b^2-4ac}$ and again find the solution for $a=0.001$, $b=1000$ and $c=0.001$. How does it compare with what previously obtained? Why?"
   ]
  },
  {
   "cell_type": "code",
   "execution_count": 225,
   "metadata": {},
   "outputs": [
    {
     "name": "stdout",
     "output_type": "stream",
     "text": [
      "sol1 = -1.000000000001e-06 \tsol test = 0.0\n",
      "sol2 = -1000010.5755125057 \tsol test = 10575.62534720993\n"
     ]
    }
   ],
   "source": [
    "Xp = (-b+sqrt(b**2-4*a*c) )\n",
    "Xm = (-b-sqrt(b**2-4*a*c) )\n",
    "\n",
    "def quad_sol2(a,b,c):\n",
    "    Xp = (-b+sqrt(b**2-4*a*c) )\n",
    "    Xm = (-b-sqrt(b**2-4*a*c) )\n",
    "    return (  (Xp*Xm)/(2*a*Xm),   (Xm*Xp)/(2*a*Xp)  )\n",
    "\n",
    "def quad_sol3(a,b,c):\n",
    "    return (-2*c/(b+sqrt(b**2-4*a*c)),-2*c/(b-sqrt(b**2-4*a*c)))\n",
    "\n",
    "def quad_sol4(a,b,c):\n",
    "    A = sqrt(b**2-4*a*c)\n",
    "    return (-b*A+A**2)/(2*a*A),(-b*A-A**2)/(2*a*A)\n",
    "\n",
    "x0 = quad_sol3(a,b,c)\n",
    "print(\"sol1 =\",x0[0],\"\\tsol test =\",sol_test(a,b,c,x0[0]))\n",
    "print(\"sol2 =\",x0[1],\"\\tsol test =\",sol_test(a,b,c,x0[1]))"
   ]
  },
  {
   "cell_type": "markdown",
   "metadata": {},
   "source": [
    "(c) write a function that compute the roots of a quadratic equation accurately in all cases"
   ]
  },
  {
   "cell_type": "markdown",
   "metadata": {},
   "source": [
    "### 6\\. Write a program that implements the function $f(x)=x(x−1)$"
   ]
  },
  {
   "cell_type": "code",
   "execution_count": 2,
   "metadata": {},
   "outputs": [],
   "source": [
    "f = lambda x : x*(x-1)"
   ]
  },
  {
   "cell_type": "markdown",
   "metadata": {},
   "source": [
    "(a) Calculate the derivative of the function at the point $x = 1$ using the derivative definition:\n",
    "\n",
    "$$\n",
    "\\frac{{\\rm d}f}{{\\rm d}x} = \\lim_{\\delta\\to0} \\frac{f(x+\\delta)-f(x)}{\\delta}\n",
    "$$\n",
    "\n",
    "with $\\delta = 10^{−2}$. Calculate the true value of the same derivative analytically and compare with the answer your program gives. The two will not agree perfectly. Why not?"
   ]
  },
  {
   "cell_type": "code",
   "execution_count": 3,
   "metadata": {},
   "outputs": [
    {
     "name": "stdout",
     "output_type": "stream",
     "text": [
      "analitic = 1 \tnumeric = 1.010000000000001\n"
     ]
    }
   ],
   "source": [
    "Df = lambda x : 2*x-1\n",
    "def Df_(x,dx):\n",
    "    return (f(x+dx)-f(x))/dx\n",
    "\n",
    "print(\"analitic =\",Df(1),\"\\tnumeric =\",Df_(1,10**-2))"
   ]
  },
  {
   "cell_type": "markdown",
   "metadata": {},
   "source": [
    "Most significant problem is the fact that $10^{-2}$ represents only a limited convengence of the limit."
   ]
  },
  {
   "cell_type": "markdown",
   "metadata": {},
   "source": [
    "# ######"
   ]
  },
  {
   "cell_type": "markdown",
   "metadata": {},
   "source": [
    "(b) Repeat the calculation for $\\delta = 10^{−4}, 10^{−6}, 10^{−8}, 10^{−10}, 10^{−12}$ and $10^{−14}$. How does the accuracy scales with $\\delta$?"
   ]
  },
  {
   "cell_type": "code",
   "execution_count": 4,
   "metadata": {},
   "outputs": [
    {
     "name": "stdout",
     "output_type": "stream",
     "text": [
      "analitic = 1 \tnumeric = 1.0000999999998899\n",
      "analitic = 1 \tnumeric = 1.0000009999177333\n",
      "analitic = 1 \tnumeric = 1.0000000039225287\n",
      "analitic = 1 \tnumeric = 1.000000082840371\n",
      "analitic = 1 \tnumeric = 1.0000889005833413\n",
      "analitic = 1 \tnumeric = 0.9992007221626509\n"
     ]
    }
   ],
   "source": [
    "dX = [10**-4,10**-6,10**-8,10**-10,10**-12,10**-14]\n",
    "\n",
    "for dx in dX:\n",
    "    print(\"analitic =\",Df(1),\"\\tnumeric =\",Df_(1,dx))"
   ]
  },
  {
   "cell_type": "markdown",
   "metadata": {},
   "source": [
    "Initially, accuracy improves with smaller $\\delta$. After a certain points accuracy decreases with decreasing $\\delta$.\n",
    "\n",
    "The first behaviour comes from the fact that a smaller $\\delta$"
   ]
  },
  {
   "cell_type": "markdown",
   "metadata": {},
   "source": [
    "### 7\\. Consider the integral of the semicircle of radius 1:\n",
    "$$\n",
    "I=\\int_{-1}^{1} \\sqrt(1-x^2) {\\rm d}x\n",
    "$$\n",
    "which it's known to be $I=\\frac{\\pi}{2}=1.57079632679...$.\n",
    "Alternatively we can use the Riemann definition of the integral:\n",
    "$$\n",
    "I=\\lim_{N\\to\\infty} \\sum_{k=1}^{N} h y_k \n",
    "$$\n",
    "\n",
    "with $h=2/N$ the width of each of the $N$ slices the domain is divided into and where\n",
    "$y_k$ is the value of the function at the $k-$th slice.\n",
    "\n",
    "(a) Write a programe to compute the integral with $N=100$. How does the result compares to the true value?\n",
    "\n",
    "(b) How much can $N$ be increased if the computation needs to be run in less than a second? What is the gain in running it for 1 minute? \n"
   ]
  },
  {
   "cell_type": "code",
   "execution_count": null,
   "metadata": {
    "jupyter": {
     "source_hidden": true
    }
   },
   "outputs": [],
   "source": []
  }
 ],
 "metadata": {
  "kernelspec": {
   "display_name": "Python 3",
   "language": "python",
   "name": "python3"
  },
  "language_info": {
   "codemirror_mode": {
    "name": "ipython",
    "version": 3
   },
   "file_extension": ".py",
   "mimetype": "text/x-python",
   "name": "python",
   "nbconvert_exporter": "python",
   "pygments_lexer": "ipython3",
   "version": "3.7.6"
  }
 },
 "nbformat": 4,
 "nbformat_minor": 4
}
